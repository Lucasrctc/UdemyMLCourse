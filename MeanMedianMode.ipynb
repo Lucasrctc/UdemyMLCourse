{
 "cells": [
  {
   "cell_type": "markdown",
   "metadata": {},
   "source": [
    "# Mean, Median, Mode, and introducing NumPy"
   ]
  },
  {
   "cell_type": "markdown",
   "metadata": {},
   "source": [
    "## Mean vs. Median"
   ]
  },
  {
   "cell_type": "markdown",
   "metadata": {},
   "source": [
    "Let's create some fake income data, centered around 27,000 with a normal distribution and standard deviation of 15,000, with 10,000 data points. (We'll discuss those terms more later, if you're not familiar with them.)\n",
    "\n",
    "Then, compute the mean (average) - it should be close to 27,000:"
   ]
  },
  {
   "cell_type": "code",
   "execution_count": 1,
   "metadata": {},
   "outputs": [
    {
     "data": {
      "text/plain": [
       "26881.080521136613"
      ]
     },
     "execution_count": 1,
     "metadata": {},
     "output_type": "execute_result"
    }
   ],
   "source": [
    "import numpy as np\n",
    "\n",
    "incomes = np.random.normal(27000, 15000, 10000)\n",
    "np.mean(incomes)"
   ]
  },
  {
   "cell_type": "markdown",
   "metadata": {},
   "source": [
    "We can segment the income data into 50 buckets, and plot it as a histogram:"
   ]
  },
  {
   "cell_type": "code",
   "execution_count": 2,
   "metadata": {},
   "outputs": [
    {
     "data": {
      "image/png": "[encoded data removed]",
      "text/plain": [
       "<Figure size 640x480 with 1 Axes>"
      ]
     },
     "metadata": {},
     "output_type": "display_data"
    }
   ],
   "source": [
    "%matplotlib inline\n",
    "import matplotlib.pyplot as plt\n",
    "plt.hist(incomes, 50)\n",
    "plt.show()"
   ]
  },
  {
   "cell_type": "markdown",
   "metadata": {},
   "source": [
    "Now compute the median - since we have a nice, even distribution it too should be close to 27,000:"
   ]
  },
  {
   "cell_type": "code",
   "execution_count": 3,
   "metadata": {},
   "outputs": [
    {
     "data": {
      "text/plain": [
       "26725.500348537484"
      ]
     },
     "execution_count": 3,
     "metadata": {},
     "output_type": "execute_result"
    }
   ],
   "source": [
    "np.median(incomes)"
   ]
  },
  {
   "cell_type": "markdown",
   "metadata": {},
   "source": [
    "Now we'll add Jeff Bezos into the mix. Darn income inequality!"
   ]
  },
  {
   "cell_type": "code",
   "execution_count": 4,
   "metadata": {},
   "outputs": [],
   "source": [
    "incomes = np.append(incomes, [1000000000])"
   ]
  },
  {
   "cell_type": "markdown",
   "metadata": {},
   "source": [
    "The median won't change much, but the mean does:"
   ]
  },
  {
   "cell_type": "code",
   "execution_count": 5,
   "metadata": {},
   "outputs": [
    {
     "data": {
      "text/plain": [
       "26726.286111595695"
      ]
     },
     "execution_count": 5,
     "metadata": {},
     "output_type": "execute_result"
    }
   ],
   "source": [
    "np.median(incomes)"
   ]
  },
  {
   "cell_type": "code",
   "execution_count": 6,
   "metadata": {},
   "outputs": [
    {
     "data": {
      "text/plain": [
       "126868.39368176844"
      ]
     },
     "execution_count": 6,
     "metadata": {},
     "output_type": "execute_result"
    }
   ],
   "source": [
    "np.mean(incomes)"
   ]
  },
  {
   "cell_type": "markdown",
   "metadata": {},
   "source": [
    "## Mode"
   ]
  },
  {
   "cell_type": "markdown",
   "metadata": {},
   "source": [
    "Next, let's generate some fake age data for 500 people:"
   ]
  },
  {
   "cell_type": "code",
   "execution_count": 7,
   "metadata": {},
   "outputs": [
    {
     "data": {
      "text/plain": [
       "array([34, 87, 35, 59, 57, 45, 74, 51, 72, 43, 19, 63, 75, 61, 79, 48, 34,\n",
       "       32, 44, 77, 47, 20, 88, 34, 81, 47, 48, 77, 45, 69, 20, 59, 75, 63,\n",
       "       64, 31, 83, 60, 77, 22, 24, 79, 39, 30, 23, 38, 25, 73, 28, 31, 44,\n",
       "       71, 38, 68, 22, 68, 49, 25, 46, 35, 71, 37, 88, 47, 60, 57, 59, 68,\n",
       "       54, 65, 73, 45, 64, 67, 50, 35, 86, 66, 61, 34, 41, 39, 18, 37, 27,\n",
       "       46, 46, 73, 76, 33, 85, 84, 47, 61, 81, 80, 24, 66, 58, 46, 18, 83,\n",
       "       46, 78, 88, 57, 63, 82, 53, 31, 57, 44, 28, 50, 57, 89, 46, 62, 64,\n",
       "       71, 68, 54, 62, 45, 59, 80, 26, 25, 18, 60, 84, 78, 50, 31, 49, 52,\n",
       "       24, 73, 64, 49, 50, 71, 32, 66, 19, 68, 85, 71, 60, 72, 24, 59, 40,\n",
       "       67, 82, 22, 63, 59, 50, 45, 74, 53, 58, 58, 42, 64, 71, 88, 75, 49,\n",
       "       85, 80, 70, 39, 61, 48, 60, 64, 75, 33, 84, 62, 75, 76, 75, 24, 18,\n",
       "       27, 32, 82, 62, 63, 20, 19, 37, 82, 51, 87, 31, 54, 21, 48, 33, 71,\n",
       "       41, 82, 82, 33, 44, 64, 75, 61, 69, 35, 32, 82, 83, 44, 69, 46, 59,\n",
       "       21, 89, 63, 41, 79, 34, 62, 24, 24, 18, 66, 79, 63, 51, 20, 63, 64,\n",
       "       21, 18, 31, 88, 46, 58, 18, 20, 43, 32, 71, 42, 69, 45, 58, 37, 61,\n",
       "       40, 75, 56, 38, 83, 74, 61, 68, 70, 41, 43, 41, 33, 23, 74, 68, 34,\n",
       "       43, 72, 43, 75, 51, 42, 26, 79, 22, 65, 86, 70, 88, 72, 28, 38, 53,\n",
       "       77, 85, 84, 62, 39, 38, 23, 77, 81, 58, 87, 29, 77, 52, 43, 22, 55,\n",
       "       54, 55, 76, 30, 40, 75, 62, 22, 40, 25, 18, 60, 35, 32, 37, 72, 34,\n",
       "       69, 89, 68, 24, 67, 38, 67, 20, 85, 89, 70, 73, 35, 67, 23, 45, 19,\n",
       "       65, 29, 72, 77, 64, 44, 41, 27, 24, 27, 21, 22, 76, 54, 84, 87, 29,\n",
       "       35, 25, 80, 45, 43, 22, 69, 18, 38, 51, 20, 41, 42, 38, 21, 38, 29,\n",
       "       75, 70, 88, 67, 54, 21, 32, 66, 36, 35, 19, 74, 76, 32, 60, 29, 73,\n",
       "       86, 81, 28, 64, 26, 51, 85, 58, 33, 83, 67, 34, 74, 41, 86, 70, 62,\n",
       "       67, 83, 31, 63, 57, 80, 68, 51, 70, 86, 32, 49, 72, 39, 37, 59, 30,\n",
       "       32, 62, 44, 36, 21, 55, 87, 43, 45, 55, 47, 41, 89, 37, 64, 30, 29,\n",
       "       31, 45, 61, 19, 22, 56, 51, 25, 79, 35, 54, 61, 19, 57, 50, 74, 63,\n",
       "       77, 46, 73, 46, 57, 39, 66, 27, 73, 70, 63, 45, 59, 51, 52, 36, 76,\n",
       "       59, 19, 38, 68, 74, 35, 68, 83, 65, 41, 18, 68, 56, 41, 77, 84, 60,\n",
       "       60, 64, 45, 46, 36, 89, 57])"
      ]
     },
     "execution_count": 7,
     "metadata": {},
     "output_type": "execute_result"
    }
   ],
   "source": [
    "ages = np.random.randint(18, high=90, size=500)\n",
    "ages"
   ]
  },
  {
   "cell_type": "code",
   "execution_count": 9,
   "metadata": {},
   "outputs": [
    {
     "data": {
      "text/plain": [
       "ModeResult(mode=45, count=12)"
      ]
     },
     "execution_count": 9,
     "metadata": {},
     "output_type": "execute_result"
    }
   ],
   "source": [
    "from scipy import stats\n",
    "stats.mode(ages)"
   ]
  },
  {
   "cell_type": "code",
   "execution_count": null,
   "metadata": {},
   "outputs": [],
   "source": []
  }
 ],
 "metadata": {
  "kernelspec": {
   "display_name": "Python 3 (ipykernel)",
   "language": "python",
   "name": "python3"
  },
  "language_info": {
   "codemirror_mode": {
    "name": "ipython",
    "version": 3
   },
   "file_extension": ".py",
   "mimetype": "text/x-python",
   "name": "python",
   "nbconvert_exporter": "python",
   "pygments_lexer": "ipython3",
   "version": "3.12.8"
  }
 },
 "nbformat": 4,
 "nbformat_minor": 4
}
